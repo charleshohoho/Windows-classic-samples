{
  "nbformat": 4,
  "nbformat_minor": 0,
  "metadata": {
    "colab": {
      "name": "互動裝置技術實驗筆記本.ipynb",
      "provenance": [],
      "collapsed_sections": [],
      "authorship_tag": "ABX9TyOVic3zSdZmUztryAPniByX",
      "include_colab_link": true
    },
    "kernelspec": {
      "name": "python3",
      "display_name": "Python 3"
    }
  },
  "cells": [
    {
      "cell_type": "markdown",
      "metadata": {
        "id": "view-in-github",
        "colab_type": "text"
      },
      "source": [
        "<a href=\"https://colab.research.google.com/github/charleshohoho/Windows-classic-samples/blob/master/%E4%BA%92%E5%8B%95%E8%A3%9D%E7%BD%AE%E6%8A%80%E8%A1%93%E5%AF%A6%E9%A9%97%E7%AD%86%E8%A8%98%E6%9C%AC.ipynb\" target=\"_parent\"><img src=\"https://colab.research.google.com/assets/colab-badge.svg\" alt=\"Open In Colab\"/></a>"
      ]
    },
    {
      "cell_type": "markdown",
      "metadata": {
        "id": "9v4K_0-LBeOT"
      },
      "source": [
        "本筆記本紀錄互動裝置技術課程實驗"
      ]
    },
    {
      "cell_type": "markdown",
      "metadata": {
        "id": "QSlnukxKCD5q"
      },
      "source": [
        "第四周 Python程式練習(3/18)"
      ]
    },
    {
      "cell_type": "code",
      "metadata": {
        "colab": {
          "base_uri": "https://localhost:8080/"
        },
        "id": "OEzhbtiDBRNZ",
        "outputId": "0168c347-42b7-49f5-ea5f-6949f2de8f5e"
      },
      "source": [
        "1+1"
      ],
      "execution_count": null,
      "outputs": [
        {
          "output_type": "execute_result",
          "data": {
            "text/plain": [
              "2"
            ]
          },
          "metadata": {
            "tags": []
          },
          "execution_count": 1
        }
      ]
    },
    {
      "cell_type": "markdown",
      "metadata": {
        "id": "VrRI60w7ILtU"
      },
      "source": [
        "參考：Python教學 2.1.2.互動模式"
      ]
    },
    {
      "cell_type": "code",
      "metadata": {
        "colab": {
          "base_uri": "https://localhost:8080/"
        },
        "id": "Z5yU1BbsCKiZ",
        "outputId": "fe044384-c587-4732-bf62-785c251c3f66"
      },
      "source": [
        "the_world_is_flat = True\n",
        "if the_world_is_flat:\n",
        "  print(\"你好，Be careful not to fall off!\")"
      ],
      "execution_count": null,
      "outputs": [
        {
          "output_type": "stream",
          "text": [
            "你好，Be careful not to fall off!\n"
          ],
          "name": "stdout"
        }
      ]
    },
    {
      "cell_type": "markdown",
      "metadata": {
        "id": "Xt62JFBXMR6c"
      },
      "source": [
        "參考：Python教學 3. 一個非正式的 Python 簡介"
      ]
    },
    {
      "cell_type": "markdown",
      "metadata": {
        "id": "Q5SFpHuPVMXP"
      },
      "source": [
        "數字"
      ]
    },
    {
      "cell_type": "code",
      "metadata": {
        "colab": {
          "base_uri": "https://localhost:8080/"
        },
        "id": "o_d-PS9pGk-9",
        "outputId": "4d66dece-0c6b-4cff-ff7d-fba06f29a142"
      },
      "source": [
        "#註解\n",
        "2*2 #註解"
      ],
      "execution_count": null,
      "outputs": [
        {
          "output_type": "execute_result",
          "data": {
            "text/plain": [
              "4"
            ]
          },
          "metadata": {
            "tags": []
          },
          "execution_count": 5
        }
      ]
    },
    {
      "cell_type": "code",
      "metadata": {
        "colab": {
          "base_uri": "https://localhost:8080/"
        },
        "id": "XC9hkNTXNDJd",
        "outputId": "a2d1cf75-a0a0-46aa-dfac-1cbe1aed9ebf"
      },
      "source": [
        "width = 20 #寬\n",
        "height = 5*9  #高\n",
        "width * height  #面積"
      ],
      "execution_count": null,
      "outputs": [
        {
          "output_type": "execute_result",
          "data": {
            "text/plain": [
              "900"
            ]
          },
          "metadata": {
            "tags": []
          },
          "execution_count": 6
        }
      ]
    },
    {
      "cell_type": "code",
      "metadata": {
        "colab": {
          "base_uri": "https://localhost:8080/"
        },
        "id": "ODEVOu45PjWu",
        "outputId": "abcf2b8b-07aa-4c15-ec57-27ddc200824c"
      },
      "source": [
        "width"
      ],
      "execution_count": null,
      "outputs": [
        {
          "output_type": "execute_result",
          "data": {
            "text/plain": [
              "20"
            ]
          },
          "metadata": {
            "tags": []
          },
          "execution_count": 8
        }
      ]
    },
    {
      "cell_type": "markdown",
      "metadata": {
        "id": "HSXEfOjtP2Xk"
      },
      "source": [
        "字串"
      ]
    },
    {
      "cell_type": "code",
      "metadata": {
        "colab": {
          "base_uri": "https://localhost:8080/",
          "height": 35
        },
        "id": "m163xBjoP0TL",
        "outputId": "44a3e4d6-74cd-480b-b39d-eaa58475d7e6"
      },
      "source": [
        "'你好'"
      ],
      "execution_count": null,
      "outputs": [
        {
          "output_type": "execute_result",
          "data": {
            "application/vnd.google.colaboratory.intrinsic+json": {
              "type": "string"
            },
            "text/plain": [
              "'你好'"
            ]
          },
          "metadata": {
            "tags": []
          },
          "execution_count": 10
        }
      ]
    },
    {
      "cell_type": "code",
      "metadata": {
        "colab": {
          "base_uri": "https://localhost:8080/",
          "height": 35
        },
        "id": "PRKB1g2ZVRWl",
        "outputId": "a284251b-5466-4245-b6ae-086d1d847eb5"
      },
      "source": [
        "\"早安\""
      ],
      "execution_count": null,
      "outputs": [
        {
          "output_type": "execute_result",
          "data": {
            "application/vnd.google.colaboratory.intrinsic+json": {
              "type": "string"
            },
            "text/plain": [
              "'早安'"
            ]
          },
          "metadata": {
            "tags": []
          },
          "execution_count": 11
        }
      ]
    },
    {
      "cell_type": "code",
      "metadata": {
        "colab": {
          "base_uri": "https://localhost:8080/",
          "height": 35
        },
        "id": "KCjlaeAJVlzF",
        "outputId": "298d39d3-114e-49b7-9854-74443ae682e3"
      },
      "source": [
        "'doesn\\'t'  # \\為跳脫字元讓特殊符號一般化"
      ],
      "execution_count": null,
      "outputs": [
        {
          "output_type": "execute_result",
          "data": {
            "application/vnd.google.colaboratory.intrinsic+json": {
              "type": "string"
            },
            "text/plain": [
              "\"doesn't\""
            ]
          },
          "metadata": {
            "tags": []
          },
          "execution_count": 15
        }
      ]
    },
    {
      "cell_type": "code",
      "metadata": {
        "colab": {
          "base_uri": "https://localhost:8080/"
        },
        "id": "nTf-rO2vW4t3",
        "outputId": "383c8bcb-80e1-48ab-e2cb-a8bd530551a1"
      },
      "source": [
        "s = '第一行；\\n第二行。'  # \\n為跳行控制字元\n",
        "print(s)"
      ],
      "execution_count": null,
      "outputs": [
        {
          "output_type": "stream",
          "text": [
            "第一行；\n",
            "第二行。\n"
          ],
          "name": "stdout"
        }
      ]
    },
    {
      "cell_type": "code",
      "metadata": {
        "colab": {
          "base_uri": "https://localhost:8080/",
          "height": 35
        },
        "id": "rvPqE05OaSCf",
        "outputId": "7478d353-0141-4bab-92e2-6d2f54a32c8f"
      },
      "source": [
        "3*'你 '+'好'"
      ],
      "execution_count": null,
      "outputs": [
        {
          "output_type": "execute_result",
          "data": {
            "application/vnd.google.colaboratory.intrinsic+json": {
              "type": "string"
            },
            "text/plain": [
              "'你 你 你 好'"
            ]
          },
          "metadata": {
            "tags": []
          },
          "execution_count": 18
        }
      ]
    },
    {
      "cell_type": "code",
      "metadata": {
        "colab": {
          "base_uri": "https://localhost:8080/",
          "height": 35
        },
        "id": "FO74e0XKaou-",
        "outputId": "f27cc418-e30e-4ebc-93a1-90a5e8cfd152"
      },
      "source": [
        "'Py' 'thon'"
      ],
      "execution_count": null,
      "outputs": [
        {
          "output_type": "execute_result",
          "data": {
            "application/vnd.google.colaboratory.intrinsic+json": {
              "type": "string"
            },
            "text/plain": [
              "'Python'"
            ]
          },
          "metadata": {
            "tags": []
          },
          "execution_count": 19
        }
      ]
    },
    {
      "cell_type": "code",
      "metadata": {
        "colab": {
          "base_uri": "https://localhost:8080/",
          "height": 35
        },
        "id": "jJav14eEa9XI",
        "outputId": "4e8716b4-79fb-41bd-efcd-83121ad8b7a1"
      },
      "source": [
        "prefix = \"Py\"\n",
        "prefix + \"thon\""
      ],
      "execution_count": null,
      "outputs": [
        {
          "output_type": "execute_result",
          "data": {
            "application/vnd.google.colaboratory.intrinsic+json": {
              "type": "string"
            },
            "text/plain": [
              "'Python'"
            ]
          },
          "metadata": {
            "tags": []
          },
          "execution_count": 21
        }
      ]
    },
    {
      "cell_type": "code",
      "metadata": {
        "colab": {
          "base_uri": "https://localhost:8080/"
        },
        "id": "1c0L4s0wbpqX",
        "outputId": "454253d4-e143-4ab0-af19-2d55e58a4fb6"
      },
      "source": [
        "word = \"Python\"\n",
        "print(word[0])\n",
        "print(word[5])\n",
        "print(word[-1])\n",
        "print(word[-6])"
      ],
      "execution_count": null,
      "outputs": [
        {
          "output_type": "stream",
          "text": [
            "P\n",
            "n\n",
            "n\n",
            "P\n"
          ],
          "name": "stdout"
        }
      ]
    },
    {
      "cell_type": "code",
      "metadata": {
        "colab": {
          "base_uri": "https://localhost:8080/"
        },
        "id": "0S4cd9FacXvg",
        "outputId": "4f345b23-ced0-4d5c-be7c-57f2db76e577"
      },
      "source": [
        "word = \"互動裝置技術實驗筆記本\"\n",
        "print(word[0])\n",
        "print(word[-2])"
      ],
      "execution_count": null,
      "outputs": [
        {
          "output_type": "stream",
          "text": [
            "互\n",
            "記\n"
          ],
          "name": "stdout"
        }
      ]
    },
    {
      "cell_type": "markdown",
      "metadata": {
        "id": "wsw4swpiKFqB"
      },
      "source": [
        "第五週 字串、List(3/25)"
      ]
    },
    {
      "cell_type": "markdown",
      "metadata": {
        "id": "pYoZj-AbK9vd"
      },
      "source": [
        "列印部分字串"
      ]
    },
    {
      "cell_type": "code",
      "metadata": {
        "colab": {
          "base_uri": "https://localhost:8080/"
        },
        "id": "SmpI7duHLDTV",
        "outputId": "b7ea48bc-9a25-41c9-ab04-69508d641240"
      },
      "source": [
        "word = \"互動裝置技術實驗筆記本\"\n",
        "print(word[0:6])"
      ],
      "execution_count": null,
      "outputs": [
        {
          "output_type": "stream",
          "text": [
            "互動裝置技術\n"
          ],
          "name": "stdout"
        }
      ]
    },
    {
      "cell_type": "code",
      "metadata": {
        "colab": {
          "base_uri": "https://localhost:8080/"
        },
        "id": "r9048fiiPcML",
        "outputId": "3cc7e306-aba1-423d-8cd2-75b192e81454"
      },
      "source": [
        "word = 'Python'\n",
        "print(word[2:])"
      ],
      "execution_count": null,
      "outputs": [
        {
          "output_type": "stream",
          "text": [
            "thon\n"
          ],
          "name": "stdout"
        }
      ]
    },
    {
      "cell_type": "markdown",
      "metadata": {
        "id": "f9-peWbJappZ"
      },
      "source": [
        "串列(List)"
      ]
    },
    {
      "cell_type": "code",
      "metadata": {
        "colab": {
          "base_uri": "https://localhost:8080/"
        },
        "id": "GRG3TJqJao2b",
        "outputId": "6965cda6-87b8-4d03-815c-71ab2260fc9b"
      },
      "source": [
        "squares = [1,4,9,16,25]\n",
        "squares"
      ],
      "execution_count": null,
      "outputs": [
        {
          "output_type": "execute_result",
          "data": {
            "text/plain": [
              "[1, 4, 9, 16, 25]"
            ]
          },
          "metadata": {
            "tags": []
          },
          "execution_count": 6
        }
      ]
    },
    {
      "cell_type": "code",
      "metadata": {
        "colab": {
          "base_uri": "https://localhost:8080/"
        },
        "id": "tq90TO5UcPZj",
        "outputId": "ae2efc1f-aa09-440b-cfc6-679ea43a7e1c"
      },
      "source": [
        "squares[0]"
      ],
      "execution_count": null,
      "outputs": [
        {
          "output_type": "execute_result",
          "data": {
            "text/plain": [
              "1"
            ]
          },
          "metadata": {
            "tags": []
          },
          "execution_count": 7
        }
      ]
    },
    {
      "cell_type": "code",
      "metadata": {
        "colab": {
          "base_uri": "https://localhost:8080/"
        },
        "id": "eHvuapveckBT",
        "outputId": "ff5331f9-57a2-4a0d-e055-99c6580cf9c4"
      },
      "source": [
        "squares[-1]"
      ],
      "execution_count": null,
      "outputs": [
        {
          "output_type": "execute_result",
          "data": {
            "text/plain": [
              "25"
            ]
          },
          "metadata": {
            "tags": []
          },
          "execution_count": 8
        }
      ]
    },
    {
      "cell_type": "code",
      "metadata": {
        "colab": {
          "base_uri": "https://localhost:8080/"
        },
        "id": "uZadgbVdcuOB",
        "outputId": "64136fe9-fa2a-4a66-87c0-90cdb6cc80d4"
      },
      "source": [
        "squares[1:3]"
      ],
      "execution_count": null,
      "outputs": [
        {
          "output_type": "execute_result",
          "data": {
            "text/plain": [
              "[4, 9]"
            ]
          },
          "metadata": {
            "tags": []
          },
          "execution_count": 10
        }
      ]
    },
    {
      "cell_type": "code",
      "metadata": {
        "colab": {
          "base_uri": "https://localhost:8080/"
        },
        "id": "NbWHAUP7dbRo",
        "outputId": "62ce15ed-5cac-4dae-eeac-77a7a73bc56a"
      },
      "source": [
        "squares[3] = 64\n",
        "squares"
      ],
      "execution_count": null,
      "outputs": [
        {
          "output_type": "execute_result",
          "data": {
            "text/plain": [
              "[1, 4, 9, 64, 25]"
            ]
          },
          "metadata": {
            "tags": []
          },
          "execution_count": 11
        }
      ]
    },
    {
      "cell_type": "markdown",
      "metadata": {
        "id": "eHDO4UwtIkB9"
      },
      "source": [
        "我們可以印出費氏數列的首幾項序列"
      ]
    },
    {
      "cell_type": "code",
      "metadata": {
        "colab": {
          "base_uri": "https://localhost:8080/"
        },
        "id": "VbdAfxrwIMIu",
        "outputId": "1ed3fd67-58d3-40d0-99fa-83b90a7e5c92"
      },
      "source": [
        "a, b = 0,1\n",
        "while a < 10:\n",
        "  print(a)\n",
        "  a, b = b, a+b"
      ],
      "execution_count": null,
      "outputs": [
        {
          "output_type": "stream",
          "text": [
            "0\n",
            "1\n",
            "1\n",
            "2\n",
            "3\n",
            "5\n",
            "8\n"
          ],
          "name": "stdout"
        }
      ]
    }
  ]
}